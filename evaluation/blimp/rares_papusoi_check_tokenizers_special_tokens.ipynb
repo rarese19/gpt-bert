{
 "cells": [
  {
   "cell_type": "code",
   "execution_count": 1,
   "id": "bc5737c8-545c-46aa-a825-5efd9f041210",
   "metadata": {},
   "outputs": [
    {
     "name": "stdout",
     "output_type": "stream",
     "text": [
      "Tokeni speciali găsiți:\n",
      "<unk>: 0\n",
      "<special_10>: 15\n",
      "<special_4>: 9\n",
      "<special_7>: 12\n",
      "<special_2>: 7\n",
      "<special_6>: 11\n",
      "<special_0>: 5\n",
      "<special_3>: 8\n",
      "</s>: 2\n",
      "<pad>: 3\n",
      "<special_9>: 14\n",
      "<special_5>: 10\n",
      "<s>: 1\n",
      "<mask>: 4\n",
      "<special_8>: 13\n",
      "<special_1>: 6\n"
     ]
    }
   ],
   "source": [
    "from tokenizers import Tokenizer\n",
    "\n",
    "tokenizer = Tokenizer.from_file(\"../../tokenizers/tokenizer_10M.json\")\n",
    "\n",
    "# Obține vocabularul complet (un dicționar de token: id)\n",
    "vocab = tokenizer.get_vocab()\n",
    "\n",
    "# Filtrează tokenii care încep cu '<' și se termină cu '>'\n",
    "special_tokens = {token: idx for token, idx in vocab.items() if token.startswith(\"<\") and token.endswith(\">\")}\n",
    "\n",
    "print(\"Tokeni speciali găsiți:\")\n",
    "for token, idx in special_tokens.items():\n",
    "    print(f\"{token}: {idx}\")"
   ]
  }
 ],
 "metadata": {
  "kernelspec": {
   "display_name": "Python 3 (ipykernel)",
   "language": "python",
   "name": "python3"
  },
  "language_info": {
   "codemirror_mode": {
    "name": "ipython",
    "version": 3
   },
   "file_extension": ".py",
   "mimetype": "text/x-python",
   "name": "python",
   "nbconvert_exporter": "python",
   "pygments_lexer": "ipython3",
   "version": "3.10.12"
  }
 },
 "nbformat": 4,
 "nbformat_minor": 5
}
